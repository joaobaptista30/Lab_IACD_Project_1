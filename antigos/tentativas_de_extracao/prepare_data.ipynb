{
 "cells": [
  {
   "cell_type": "markdown",
   "metadata": {},
   "source": [
    "# Notebook to segment the scans\n",
    "1- Segment only the lungs from a scans \n",
    "\n",
    "2- Aggregate all segmented scans in a npy array and store it in disk also stores the correct xml file\n"
   ]
  },
  {
   "cell_type": "code",
   "execution_count": null,
   "metadata": {},
   "outputs": [],
   "source": [
    "import pydicom\n",
    "import os\n",
    "import numpy as np\n",
    "import shutil"
   ]
  },
  {
   "cell_type": "code",
   "execution_count": null,
   "metadata": {},
   "outputs": [],
   "source": [
    "def segment_lung():\n",
    "    ..."
   ]
  },
  {
   "cell_type": "code",
   "execution_count": null,
   "metadata": {},
   "outputs": [],
   "source": [
    "def aggregate_scans(folder_path):\n",
    "    # List to hold the slices\n",
    "    slices = []\n",
    "    \n",
    "    # Loop through all files in the directory\n",
    "    for filename in sorted(os.listdir(folder_path)):\n",
    "        if filename.endswith('.dcm'):\n",
    "            # Load the DICOM file\n",
    "            dicom_file_path = os.path.join(folder_path, filename)\n",
    "            dicom_data = pydicom.dcmread(dicom_file_path)\n",
    "\n",
    "            #segment the scan\n",
    "            segmented_scan = segment_lung(dicom_data.pixel_array)\n",
    "            \n",
    "            # Extract pixel array\n",
    "            slices.append(segmented_scan)\n",
    "    \n",
    "    # Stack the slices into a 3D NumPy array (slices, 512, 512)\n",
    "    dicom_stack = np.stack(slices, axis=0)\n",
    "    \n",
    "    return dicom_stack"
   ]
  }
 ],
 "metadata": {
  "kernelspec": {
   "display_name": "Python 3",
   "language": "python",
   "name": "python3"
  },
  "language_info": {
   "name": "python",
   "version": "3.12.6"
  }
 },
 "nbformat": 4,
 "nbformat_minor": 2
}
