{
 "cells": [
  {
   "cell_type": "markdown",
   "metadata": {},
   "source": [
    "# Random Forest\n",
    "Neste notebook vamos testar a qualidade do algoritmo Random Forest para a classificação de nódulos."
   ]
  },
  {
   "cell_type": "code",
   "execution_count": 1,
   "metadata": {},
   "outputs": [],
   "source": [
    "from sklearn.ensemble import RandomForestClassifier\n",
    "import pandas as pd\n",
    "from sklearn.model_selection import train_test_split\n",
    "import matplotlib.pyplot as plt\n",
    "\n",
    "data = pd.read_csv('../data_cleaning/final_features.csv')\n",
    "\n",
    "y = data[\"malignancy\"]\n",
    "X = data.drop(columns=['malignancy','case_id'])"
   ]
  },
  {
   "cell_type": "markdown",
   "metadata": {},
   "source": [
    "## Hiperparâmetros\n",
    "\n",
    "Utilização da GridSearchCV para descobrir quais os melhores hiperparâmetros para o treino do modelo:"
   ]
  },
  {
   "cell_type": "code",
   "execution_count": 4,
   "metadata": {},
   "outputs": [
    {
     "name": "stdout",
     "output_type": "stream",
     "text": [
      "Teste com varios ranges, objetivo: saber qual o melhor\n",
      "Fitting 10 folds for each of 1320 candidates, totalling 13200 fits\n",
      "Best Hyperparameters: {'criterion': 'log_loss', 'max_depth': 95, 'min_samples_leaf': 5, 'n_estimators': 25}\n"
     ]
    }
   ],
   "source": [
    "from sklearn.model_selection import GridSearchCV, StratifiedKFold\n",
    "\n",
    "model = RandomForestClassifier()\n",
    "\n",
    "# cross-validation para testar os hiperparametros\n",
    "cv = StratifiedKFold(n_splits=10, shuffle=True, random_state=405)\n",
    "\n",
    "\n",
    "print(\"Teste com varios ranges, objetivo: saber qual o melhor\")\n",
    "# hiperparametros a testar\n",
    "param_grid = {\n",
    "    'n_estimators': [i for i in range (25,201,25)],\n",
    "    'max_depth': [i for i in range(5,106,10)],\n",
    "    'min_samples_leaf': [i for i in range(5,26,5)],\n",
    "    'criterion': [\"gini\", \"entropy\", \"log_loss\"]\n",
    "}\n",
    "\n",
    "# grid search com cv\n",
    "grid_search = GridSearchCV(estimator=model, param_grid=param_grid, cv=cv, scoring='accuracy', verbose=2, n_jobs=-1)\n",
    "grid_search.fit(X, y)\n",
    "\n",
    "# resultado\n",
    "print(f\"Best Hyperparameters: {grid_search.best_params_}\")"
   ]
  },
  {
   "cell_type": "markdown",
   "metadata": {},
   "source": [
    "## Avaliação do Modelo\n",
    "\n",
    "10-fold cross-validation para testar o nosso modelo no que toca a precisão, f1, roc_auc e accuracy:"
   ]
  },
  {
   "cell_type": "code",
   "execution_count": 5,
   "metadata": {},
   "outputs": [
    {
     "name": "stdout",
     "output_type": "stream",
     "text": [
      "Precision Scores: ['0.87', '0.78', '0.84', '0.83', '0.83', '0.83', '0.82', '0.88', '0.84', '0.75']\n",
      "F1 Scores: ['0.84', '0.80', '0.84', '0.85', '0.79', '0.76', '0.75', '0.76', '0.79', '0.77']\n",
      "ROC_AUC Scores: ['0.94', '0.92', '0.95', '0.95', '0.91', '0.92', '0.91', '0.92', '0.93', '0.92']\n",
      "Accuracy Scores: ['0.87', '0.85', '0.88', '0.91', '0.85', '0.83', '0.83', '0.84', '0.87', '0.82']\n"
     ]
    }
   ],
   "source": [
    "# métricas a utilizar para a avaliação do modelo\n",
    "from sklearn.model_selection import cross_val_score\n",
    "import numpy as np\n",
    "\n",
    "# modelo\n",
    "model = RandomForestClassifier(criterion = 'entropy', max_depth = 105, min_samples_leaf = 5, n_estimators = 25)\n",
    "\n",
    "# avaliação usando 10-fold cross validation\n",
    "# skf = StratifiedKFold(n_splits = 10)\n",
    "scores = [0,0,0,0] \n",
    "# [0] -> precision\n",
    "# [1] -> f1\n",
    "# [2] -> roc_auc\n",
    "# [3] -> accuracy\n",
    "\n",
    "scores[0] = (cross_val_score(model, X, y, cv=10, scoring = \"precision\"))\n",
    "scores[1] = (cross_val_score(model, X, y, cv=10, scoring = \"f1\"))\n",
    "scores[2] = (cross_val_score(model, X, y, cv=10, scoring = \"roc_auc\"))\n",
    "scores[3] = (cross_val_score(model, X, y, cv=10, scoring = \"accuracy\"))\n",
    "\n",
    "\n",
    "precision_scores_formatted = [f\"{score:.2f}\" for score in scores[0]]\n",
    "print(f'Precision Scores: {precision_scores_formatted}')\n",
    "F1_scores_formatted = [f\"{score:.2f}\" for score in scores[1]]\n",
    "print(f'F1 Scores: {F1_scores_formatted}')\n",
    "ROC_AUC_scores_formatted = [f\"{score:.2f}\" for score in scores[2]]\n",
    "print(f'ROC_AUC Scores: {ROC_AUC_scores_formatted}')\n",
    "Accuracy_scores_formatted = [f\"{score:.2f}\" for score in scores[3]]\n",
    "print(f'Accuracy Scores: {Accuracy_scores_formatted}')"
   ]
  },
  {
   "cell_type": "markdown",
   "metadata": {},
   "source": [
    "Os valores dos arrays dos scores acima serão utilizados para um teste estatístico (Wilcoxon Test) para averiguar se os modelos são estatisticamente diferentes."
   ]
  },
  {
   "cell_type": "markdown",
   "metadata": {},
   "source": [
    "Valor médio de cada métrica de avaliação do modelo:"
   ]
  },
  {
   "cell_type": "code",
   "execution_count": 6,
   "metadata": {},
   "outputs": [
    {
     "name": "stdout",
     "output_type": "stream",
     "text": [
      "Average Precision: 0.83\n",
      "F1 Score: 0.80\n",
      "ROC_AUC: 0.93\n",
      "Accuracy Score: 0.85\n"
     ]
    }
   ],
   "source": [
    "print(f'Average Precision: {np.mean(scores[0]):.2f}')\n",
    "print(f'F1 Score: {np.mean(scores[1]):.2f}')\n",
    "print(f'ROC_AUC: {np.mean(scores[2]):.2f}')\n",
    "print(f'Accuracy Score: {np.mean(scores[3]):.2f}')"
   ]
  }
 ],
 "metadata": {
  "kernelspec": {
   "display_name": "Python 3",
   "language": "python",
   "name": "python3"
  },
  "language_info": {
   "codemirror_mode": {
    "name": "ipython",
    "version": 3
   },
   "file_extension": ".py",
   "mimetype": "text/x-python",
   "name": "python",
   "nbconvert_exporter": "python",
   "pygments_lexer": "ipython3",
   "version": "3.12.6"
  }
 },
 "nbformat": 4,
 "nbformat_minor": 2
}
