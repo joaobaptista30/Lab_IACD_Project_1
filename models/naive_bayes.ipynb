{
 "cells": [
  {
   "cell_type": "markdown",
   "metadata": {},
   "source": [
    "# Naive Bayes Classifier\n",
    "Neste notebook vamos testar a qualidade do algoritmo Naive Bayes para a classificação de nódulos\n",
    "\n",
    "Vamos usar o <i><b>Bernoulli Naive Bayes</b></i> pois já tratamos os dados para estarem em formato binário e a classificação também é binária"
   ]
  },
  {
   "cell_type": "code",
   "execution_count": null,
   "metadata": {},
   "outputs": [],
   "source": [
    "from sklearn.naive_bayes import BernoulliNB\n",
    "import pandas as pd\n",
    "import matplotlib.pyplot as plt\n",
    "\n",
    "data = pd.read_csv('../data_cleaning/final_features.csv')\n",
    "\n",
    "y = data[\"malignancy\"]\n",
    "X = data.drop(columns=['malignancy','case_id'])"
   ]
  },
  {
   "cell_type": "markdown",
   "metadata": {},
   "source": [
    "## Hiperparâmetros\n",
    "\n",
    "Vamos aplicar GridSearch com 10-fold cross-validation para testar o nosso modelo com diferentes hiperparâmetros.\n",
    "\n",
    "No caso do Bernoulli Naive Bayes temos apenas a <i>suavização de Laplace</i> (atributo 'alpha') para variar, tendo em conta que é um algoritmo com poucos hiperparâmetros."
   ]
  },
  {
   "cell_type": "code",
   "execution_count": 3,
   "metadata": {},
   "outputs": [
    {
     "name": "stdout",
     "output_type": "stream",
     "text": [
      "Objetivo do teste com vários ranges: saber qual o melhor\n",
      "Best Hyperparameters: {'alpha': 0.01}\n"
     ]
    }
   ],
   "source": [
    "from sklearn.model_selection import GridSearchCV, StratifiedKFold\n",
    "\n",
    "\n",
    "# binarize = None pois os nossos dados ja estao em binario\n",
    "# fit_prior = True vai permitir o algoritmo aprender as probabilidades de cada classe a priori\n",
    "model = BernoulliNB(binarize=None, fit_prior=True)\n",
    "\n",
    "# cross-validation para testar os hiperparametros\n",
    "cv = StratifiedKFold(n_splits=10, shuffle=True, random_state=405)\n",
    "\n",
    "\n",
    "print(\"Objetivo do teste com vários ranges: saber qual o melhor\")\n",
    "# hiperparametros a testar\n",
    "param_grid = {\n",
    "    'alpha': [0.01, 0.05, 0.1, 0.5, 1.0, 5.0],\n",
    "}\n",
    "\n",
    "\n",
    "# definir o GridSearchCV\n",
    "grid_search = GridSearchCV(estimator=model, param_grid=param_grid, cv=cv, scoring='accuracy')\n",
    "\n",
    "# treinar o modelo\n",
    "grid_search.fit(X, y)\n",
    "\n",
    "# resultado\n",
    "print(f\"Best Hyperparameters: {grid_search.best_params_}\")"
   ]
  },
  {
   "cell_type": "markdown",
   "metadata": {},
   "source": [
    "## Avaliação do Modelo\n",
    "\n",
    "Após encontrar o melhor valor para os hiperparâmetros, vamos avaliar o modelo usando 10-fold cross-validation."
   ]
  },
  {
   "cell_type": "code",
   "execution_count": 20,
   "metadata": {},
   "outputs": [
    {
     "name": "stdout",
     "output_type": "stream",
     "text": [
      "Precision Scores: ['0.71', '0.69', '0.72', '0.75', '0.72', '0.76', '0.72', '0.78', '0.77', '0.68']\n",
      "F1 Scores: ['0.77', '0.76', '0.78', '0.82', '0.74', '0.76', '0.72', '0.77', '0.79', '0.74']\n",
      "ROC_AUC Scores: ['0.88', '0.87', '0.89', '0.90', '0.86', '0.87', '0.87', '0.88', '0.89', '0.86']\n",
      "Accuracy Scores: ['0.81', '0.79', '0.81', '0.84', '0.79', '0.81', '0.78', '0.82', '0.83', '0.78']\n"
     ]
    }
   ],
   "source": [
    "# métricas a utilizar para a avaliação do modelo\n",
    "from sklearn.model_selection import cross_val_score\n",
    "import numpy as np\n",
    "\n",
    "# modelo\n",
    "model = BernoulliNB(alpha=0.01, binarize=None, fit_prior=True)\n",
    "\n",
    "# avaliação usando 10-fold cross validation\n",
    "scores = [0,0,0,0] \n",
    "# [0] -> precision\n",
    "# [1] -> f1\n",
    "# [2] -> roc_auc\n",
    "# [3] -> accuracy\n",
    "\n",
    "scores[0] = (cross_val_score(model, X, y, cv=10, scoring = \"precision\"))\n",
    "scores[1] = (cross_val_score(model, X, y, cv=10, scoring = \"f1\"))\n",
    "scores[2] = (cross_val_score(model, X, y, cv=10, scoring = \"roc_auc\"))\n",
    "scores[3] = (cross_val_score(model, X, y, cv=10, scoring = \"accuracy\"))\n",
    "\n",
    "\n",
    "precision_scores_formatted = [f\"{score:.2f}\" for score in scores[0]]\n",
    "print(f'Precision Scores: {precision_scores_formatted}')\n",
    "F1_scores_formatted = [f\"{score:.2f}\" for score in scores[1]]\n",
    "print(f'F1 Scores: {F1_scores_formatted}')\n",
    "ROC_AUC_scores_formatted = [f\"{score:.2f}\" for score in scores[2]]\n",
    "print(f'ROC_AUC Scores: {ROC_AUC_scores_formatted}')\n",
    "Accuracy_scores_formatted = [f\"{score:.2f}\" for score in scores[3]]\n",
    "print(f'Accuracy Scores: {Accuracy_scores_formatted}')"
   ]
  },
  {
   "cell_type": "markdown",
   "metadata": {},
   "source": [
    "Os valores dos arrays dos scores acima serão utilizados para um teste estatístico (Wilcoxon Test) para averiguar se os modelos são estatisticamente diferentes."
   ]
  },
  {
   "cell_type": "markdown",
   "metadata": {},
   "source": [
    "Valor médio de cada métrica de avaliação do modelo:"
   ]
  },
  {
   "cell_type": "code",
   "execution_count": 21,
   "metadata": {},
   "outputs": [
    {
     "name": "stdout",
     "output_type": "stream",
     "text": [
      "Average Precision: 0.73\n",
      "F1 Score: 0.76\n",
      "ROC_AUC: 0.88\n",
      "Accuracy Score: 0.81\n"
     ]
    }
   ],
   "source": [
    "print(f'Average Precision: {np.mean(scores[0]):.2f}')\n",
    "print(f'F1 Score: {np.mean(scores[1]):.2f}')\n",
    "print(f'ROC_AUC: {np.mean(scores[2]):.2f}')\n",
    "print(f'Accuracy Score: {np.mean(scores[3]):.2f}')"
   ]
  }
 ],
 "metadata": {
  "kernelspec": {
   "display_name": "Python 3",
   "language": "python",
   "name": "python3"
  },
  "language_info": {
   "codemirror_mode": {
    "name": "ipython",
    "version": 3
   },
   "file_extension": ".py",
   "mimetype": "text/x-python",
   "name": "python",
   "nbconvert_exporter": "python",
   "pygments_lexer": "ipython3",
   "version": "3.10.11"
  }
 },
 "nbformat": 4,
 "nbformat_minor": 2
}
