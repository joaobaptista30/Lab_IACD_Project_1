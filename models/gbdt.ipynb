{
 "cells": [
  {
   "cell_type": "markdown",
   "id": "1ecf1b0a",
   "metadata": {},
   "source": [
    "# Gradient Boosting Decision Trees\n",
    "\n",
    "Neste notebook iremos implementar o algoritmo GDBT para a classificação de nódulos.\n"
   ]
  },
  {
   "cell_type": "markdown",
   "id": "78c7c040",
   "metadata": {},
   "source": [
    "Importação das bibliotecas e dos dados necessários para a implementação do modelo:"
   ]
  },
  {
   "cell_type": "code",
   "execution_count": null,
   "id": "30c845bf",
   "metadata": {},
   "outputs": [],
   "source": [
    "from sklearn.ensemble import GradientBoostingClassifier \n",
    "from sklearn.model_selection import GridSearchCV\n",
    "import pandas as pd\n",
    "import matplotlib.pyplot as plt\n",
    "data = pd.read_csv('../data_cleaning/final_features.csv')\n",
    "\n",
    "# definir a variável target (y) e dividir os dados em conjunto de treino e teste\n",
    "y = data[\"malignancy\"]\n",
    "X = data.drop(columns=['malignancy', 'case_id'])"
   ]
  },
  {
   "cell_type": "markdown",
   "id": "3e036702",
   "metadata": {},
   "source": [
    "## Hiperparâmetros\n",
    "\n",
    "Utilização da GridSearchCV para descobrir quais os melhores hiperparâmetros para o treino do modelo:"
   ]
  },
  {
   "cell_type": "code",
   "execution_count": 4,
   "id": "61de67d8",
   "metadata": {},
   "outputs": [
    {
     "name": "stdout",
     "output_type": "stream",
     "text": [
      "Fitting 10 folds for each of 24 candidates, totalling 240 fits\n",
      "Best Hyperparameters: {'learning_rate': 0.1, 'max_depth': 3, 'n_estimators': 100, 'subsample': 1.0}\n"
     ]
    }
   ],
   "source": [
    "gbdt_model = GradientBoostingClassifier()\n",
    "# hiperparâmetros possíveis\n",
    "param_grid_gbdt = {\n",
    "    'n_estimators': [100, 200],\n",
    "    'max_depth': [3, 6, 10],\n",
    "    'learning_rate': [0.1, 0.2],\n",
    "    'subsample': [0.8, 1.0]\n",
    "}\n",
    "\n",
    "# grid search com cross-validation\n",
    "grid_search_gbdt = GridSearchCV(estimator=gbdt_model, param_grid=param_grid_gbdt, cv=10, scoring='accuracy', verbose=2, n_jobs=-1)\n",
    "grid_search_gbdt.fit(X, y) \n",
    "print(f\"Best Hyperparameters: {grid_search_gbdt.best_params_}\")"
   ]
  },
  {
   "cell_type": "markdown",
   "id": "4e55b829",
   "metadata": {},
   "source": [
    "## Avaliação do Modelo\n",
    "\n",
    "10-fold cross-validation para testar o nosso modelo no que toca a precisão, f1, roc_auc e accuracy:"
   ]
  },
  {
   "cell_type": "code",
   "execution_count": 6,
   "id": "979b5db0",
   "metadata": {},
   "outputs": [
    {
     "name": "stdout",
     "output_type": "stream",
     "text": [
      "Precision Scores: ['0.89', '0.83', '0.84', '0.82', '0.87', '0.84', '0.82', '0.88', '0.89', '0.80']\n",
      "F1 Scores: ['0.88', '0.83', '0.87', '0.86', '0.83', '0.84', '0.79', '0.79', '0.86', '0.83']\n",
      "ROC_AUC Scores: ['0.96', '0.93', '0.95', '0.95', '0.94', '0.95', '0.93', '0.93', '0.94', '0.94']\n",
      "Accuracy Scores: ['0.92', '0.86', '0.89', '0.88', '0.87', '0.88', '0.84', '0.85', '0.90', '0.86']\n"
     ]
    }
   ],
   "source": [
    "from sklearn.model_selection import cross_val_score\n",
    "import numpy as np\n",
    "\n",
    "# modelo\n",
    "model = GradientBoostingClassifier(learning_rate=0.1, max_depth=3, n_estimators=100, subsample=1) # best_gbdt_model = grid_search_gbdt.best_estimator_\n",
    "\n",
    "scores = [0,0,0,0] \n",
    "# [0] -> precision\n",
    "# [1] -> f1\n",
    "# [2] -> roc_auc\n",
    "# [3] -> accuracy\n",
    "\n",
    "# avaliação usando 10-fold cross validation\n",
    "scores[0] = (cross_val_score(model, X, y, cv=10, scoring = \"precision\"))\n",
    "scores[1] = (cross_val_score(model, X, y, cv=10, scoring = \"f1\"))\n",
    "scores[2] = (cross_val_score(model, X, y, cv=10, scoring = \"roc_auc\"))\n",
    "scores[3] = (cross_val_score(model, X, y, cv=10, scoring = \"accuracy\"))\n",
    "\n",
    "\n",
    "precision_scores_formatted = [f\"{score:.2f}\" for score in scores[0]]\n",
    "print(f'Precision Scores: {precision_scores_formatted}')\n",
    "F1_scores_formatted = [f\"{score:.2f}\" for score in scores[1]]\n",
    "print(f'F1 Scores: {F1_scores_formatted}')\n",
    "ROC_AUC_scores_formatted = [f\"{score:.2f}\" for score in scores[2]]\n",
    "print(f'ROC_AUC Scores: {ROC_AUC_scores_formatted}')\n",
    "Accuracy_scores_formatted = [f\"{score:.2f}\" for score in scores[3]]\n",
    "print(f'Accuracy Scores: {Accuracy_scores_formatted}')"
   ]
  },
  {
   "cell_type": "markdown",
   "id": "5f881228",
   "metadata": {},
   "source": [
    "Os valores dos arrays dos scores acima serão utilizados para um teste estatístico (Wilcoxon Test) para averiguar se os modelos são estatisticamente diferentes."
   ]
  },
  {
   "cell_type": "markdown",
   "id": "cc89ba32",
   "metadata": {},
   "source": [
    "Valor médio de cada métrica de avaliação do modelo:"
   ]
  },
  {
   "cell_type": "code",
   "execution_count": 7,
   "id": "629b7aa2",
   "metadata": {},
   "outputs": [
    {
     "name": "stdout",
     "output_type": "stream",
     "text": [
      "Average Precision: 0.85\n",
      "F1 Score: 0.84\n",
      "ROC_AUC: 0.94\n",
      "Accuracy Score: 0.88\n"
     ]
    }
   ],
   "source": [
    "print(f'Average Precision: {np.mean(scores[0]):.2f}')\n",
    "print(f'F1 Score: {np.mean(scores[1]):.2f}')\n",
    "print(f'ROC_AUC: {np.mean(scores[2]):.2f}')\n",
    "print(f'Accuracy Score: {np.mean(scores[3]):.2f}')"
   ]
  }
 ],
 "metadata": {
  "kernelspec": {
   "display_name": "Python 3",
   "language": "python",
   "name": "python3"
  },
  "language_info": {
   "codemirror_mode": {
    "name": "ipython",
    "version": 3
   },
   "file_extension": ".py",
   "mimetype": "text/x-python",
   "name": "python",
   "nbconvert_exporter": "python",
   "pygments_lexer": "ipython3",
   "version": "3.10.11"
  }
 },
 "nbformat": 4,
 "nbformat_minor": 5
}
